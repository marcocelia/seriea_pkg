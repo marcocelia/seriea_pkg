{
 "cells": [
  {
   "cell_type": "markdown",
   "metadata": {},
   "source": [
    "# Serie A package demo notebook"
   ]
  },
  {
   "cell_type": "markdown",
   "metadata": {},
   "source": [
    "#### imports"
   ]
  },
  {
   "cell_type": "code",
   "execution_count": null,
   "metadata": {
    "tags": []
   },
   "outputs": [],
   "source": [
    "from seriea_pkg.data import dataset as data\n",
    "from seriea_pkg.data.team_results import TeamResult\n",
    "from seriea_pkg.services.football_api import FootballAPIClient"
   ]
  },
  {
   "cell_type": "markdown",
   "metadata": {},
   "source": [
    "#### Setup API secret key and datasets dir (needed only once)"
   ]
  },
  {
   "cell_type": "code",
   "execution_count": null,
   "metadata": {},
   "outputs": [],
   "source": [
    "FootballAPIClient.set_secret_key_path(r'path-to-keyfile')\n",
    "data.set_default_datasets_path(r'path-to-datasets-dir')"
   ]
  },
  {
   "cell_type": "markdown",
   "metadata": {},
   "source": [
    "#### Show season ranking"
   ]
  },
  {
   "cell_type": "code",
   "execution_count": null,
   "metadata": {
    "scrolled": true,
    "tags": []
   },
   "outputs": [],
   "source": [
    "season = data.load_dataset(2019)\n",
    "ranking = season.ranking()\n",
    "ranking"
   ]
  },
  {
   "cell_type": "markdown",
   "metadata": {},
   "source": [
    "#### Base Rounds filtering"
   ]
  },
  {
   "cell_type": "code",
   "execution_count": null,
   "metadata": {
    "tags": []
   },
   "outputs": [],
   "source": [
    "first_half = season.subset(1,19)\n",
    "napoli_first_half = first_half.compute_team_results('Napoli')\n",
    "print(napoli_first_half)"
   ]
  },
  {
   "cell_type": "markdown",
   "metadata": {},
   "source": [
    "#### Save statistics to csv"
   ]
  },
  {
   "cell_type": "code",
   "execution_count": null,
   "metadata": {},
   "outputs": [],
   "source": [
    "data.set_default_stats_path(r'path-to-stats-dir')\n",
    "napoli_first_half.to_csv('napoli_first_half')"
   ]
  },
  {
   "cell_type": "markdown",
   "metadata": {},
   "source": [
    "#### Rounds interface is Fluent and results are symmetric"
   ]
  },
  {
   "cell_type": "code",
   "execution_count": null,
   "metadata": {
    "tags": []
   },
   "outputs": [],
   "source": [
    "# Get first season half, filter Napoli matches, compute Juventus results\n",
    "juv_vs_napoli_first_half = season.subset(1,19).filter_team('Napoli').compute_team_results('Juventus')\n",
    "print(juv_vs_napoli_second_half)\n",
    "\n",
    "# Filter Juventus matches, get only first season half, compute Napoli results\n",
    "napoli_vs_juv_first_half = season.filter_team('Juventus').subset(1,19).compute_team_results('Napoli')\n",
    "print(napoli_vs_juv_first_half)"
   ]
  },
  {
   "cell_type": "markdown",
   "metadata": {},
   "source": [
    "#### Draw team statistics"
   ]
  },
  {
   "cell_type": "code",
   "execution_count": null,
   "metadata": {},
   "outputs": [],
   "source": [
    "from seriea_pkg.graphics.single_team import SingleTeamGraphics\n",
    "\n",
    "graphics = SingleTeamGraphics(season.compute_team_results('Juventus'))\n",
    "graphics.rounds_graph()"
   ]
  },
  {
   "cell_type": "markdown",
   "metadata": {},
   "source": [
    "#### Draw team ranking graph"
   ]
  },
  {
   "cell_type": "code",
   "execution_count": null,
   "metadata": {},
   "outputs": [],
   "source": [
    "from seriea_pkg.graphics.rounds_graphics import RoundGraphics\n",
    "\n",
    "rr = RoundGraphics(season)\n",
    "rr.compare_by('GS')"
   ]
  }
 ],
 "metadata": {
  "kernelspec": {
   "display_name": "Python 3",
   "language": "python",
   "name": "python3"
  },
  "language_info": {
   "codemirror_mode": {
    "name": "ipython",
    "version": 3
   },
   "file_extension": ".py",
   "mimetype": "text/x-python",
   "name": "python",
   "nbconvert_exporter": "python",
   "pygments_lexer": "ipython3",
   "version": "3.7.6"
  }
 },
 "nbformat": 4,
 "nbformat_minor": 2
}